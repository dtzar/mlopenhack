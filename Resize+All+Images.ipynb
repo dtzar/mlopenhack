{
 "cells": [
  {
   "cell_type": "code",
   "execution_count": 2,
   "metadata": {
    "collapsed": true
   },
   "outputs": [],
   "source": [
    "from pathlib import Path\n",
    "from PIL import Image, ImageOps\n",
    "import matplotlib.pyplot as plt\n",
    "import matplotlib.image as mpimg\n",
    "import numpy as np\n",
    "import cv2\n",
    "%matplotlib inline\n",
    "\n",
    "desired_size = 128\n",
    "directory_in_str = \"C:/Users/nparker/Downloads/gear_images\""
   ]
  },
  {
   "cell_type": "code",
   "execution_count": 3,
   "metadata": {
    "collapsed": true
   },
   "outputs": [],
   "source": [
    "def normalize(arr):\n",
    "    \"\"\"\n",
    "    Linear normalization\n",
    "    http://en.wikipedia.org/wiki/Normalization_%28image_processing%29\n",
    "    \"\"\"\n",
    "    arr = arr.astype('float')\n",
    "    \n",
    "    minval = arr.min()\n",
    "    maxval = arr.max()\n",
    "    if minval != maxval:\n",
    "        arr -= minval\n",
    "        arr *= (255.0/(maxval-minval))\n",
    "    return arr"
   ]
  },
  {
   "cell_type": "code",
   "execution_count": null,
   "metadata": {},
   "outputs": [],
   "source": [
    "pathlist = Path(directory_in_str).glob('**/*.jp*')\n",
    "for path in pathlist:\n",
    "    # because path is object not string\n",
    "    im_pth = str(path)\n",
    "    im = Image.open(im_pth)\n",
    "\n",
    "    old_size = im.size  # old_size[0] is in (width, height) format\n",
    "    ratio = float(desired_size)/max(old_size)\n",
    "    new_size = tuple([int(x*ratio) for x in old_size])\n",
    "    im = im.resize(new_size, Image.ANTIALIAS)\n",
    "\n",
    "    fill_color = \"#ffffff\" #white background\n",
    "\n",
    "    # create a new image and paste the resized on it\n",
    "    new_pil_im = Image.new(\"RGB\", (desired_size, desired_size), fill_color)\n",
    "    new_pil_im.paste(im, ((desired_size-new_size[0])//2,\n",
    "                    (desired_size-new_size[1])//2))\n",
    "\n",
    "    new_pil_im.save(im_pth)\n",
    "    \n",
    "    simg = Image.open(im_pth)\n",
    "    dimg = ImageOps.autocontrast(simg, cutoff=0.2) #replace the image with an auto contrasted version\n",
    "    dimg.save(im_pth)\n",
    "    \n",
    "    img = cv2.imread(im_pth)\n",
    "    img = cv2.cvtColor(img, cv2.COLOR_BGR2RGB) # open cv reads in as BGR channel this image was RGB \n",
    "    dst = cv2.fastNlMeansDenoisingColored(img,None,10,10,7,21) # remove the noise from the background of the image\n",
    "    cv2.imwrite(im_pth,dst)\n",
    "    \n",
    "    im = Image.open(im_pth)\n",
    "    new_img = Image.fromarray(normalize(np.array(im)).astype('uint8'),'RGB') #normalize the pixels in the image\n",
    "    new_img.save(im_pth)\n",
    "    \n",
    "    simg = Image.open(im_pth)\n",
    "    flipimg = simg.transpose(Image.FLIP_LEFT_RIGHT)\n",
    "    flipimg.save(im_pth+\"1.jpg\")\n",
    "    flipimg = simg.rotate(90)\n",
    "    flipimg.save(im_pth+\"2.jpg\")\n",
    "    \n",
    "    "
   ]
  },
  {
   "cell_type": "code",
   "execution_count": null,
   "metadata": {
    "collapsed": true
   },
   "outputs": [],
   "source": []
  }
 ],
 "metadata": {
  "kernelspec": {
   "display_name": "Python (imagereziseproject)",
   "language": "python",
   "name": "imageresizeproject"
  },
  "language_info": {
   "codemirror_mode": {
    "name": "ipython",
    "version": 3
   },
   "file_extension": ".py",
   "mimetype": "text/x-python",
   "name": "python",
   "nbconvert_exporter": "python",
   "pygments_lexer": "ipython3",
   "version": "3.6.4"
  }
 },
 "nbformat": 4,
 "nbformat_minor": 2
}
